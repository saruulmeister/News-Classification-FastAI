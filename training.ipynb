{
  "nbformat": 4,
  "nbformat_minor": 0,
  "metadata": {
    "colab": {
      "name": "training.ipynb",
      "provenance": []
    },
    "kernelspec": {
      "name": "python3",
      "display_name": "Python 3"
    },
    "language_info": {
      "name": "python"
    },
    "accelerator": "GPU"
  },
  "cells": [
    {
      "cell_type": "markdown",
      "metadata": {
        "id": "o7pzB0o71eBV"
      },
      "source": [
        "# PSET6 - 11-11.mn Classification (Training)"
      ]
    },
    {
      "cell_type": "markdown",
      "metadata": {
        "id": "AT8GBD8c19Ba"
      },
      "source": [
        "## Installing and Importing Libraries"
      ]
    },
    {
      "cell_type": "code",
      "metadata": {
        "id": "Z9qMv7ik1hjJ"
      },
      "source": [
        "!pip install -Uqq torchtext==0.8.0\n",
        "!pip install -Uqq fastai\n",
        "!pip install -Uqq fastcore\n",
        "!pip install -Uqq pandas==1.1.0"
      ],
      "execution_count": 14,
      "outputs": []
    },
    {
      "cell_type": "code",
      "metadata": {
        "colab": {
          "base_uri": "https://localhost:8080/"
        },
        "id": "tUSoHXp91m69",
        "outputId": "b03a0db1-008d-495e-ba19-a4e612ea90a9"
      },
      "source": [
        "import fastai\n",
        "import fastcore\n",
        "print('Fast.ai version:', fastai.__version__)\n",
        "print('Fastcore version:', fastcore.__version__)"
      ],
      "execution_count": 15,
      "outputs": [
        {
          "output_type": "stream",
          "text": [
            "Fast.ai version: 2.3.1\n",
            "Fastcore version: 1.3.20\n"
          ],
          "name": "stdout"
        }
      ]
    },
    {
      "cell_type": "code",
      "metadata": {
        "colab": {
          "base_uri": "https://localhost:8080/"
        },
        "id": "HzAqyc_l13pi",
        "outputId": "25f6ba3f-4df6-450b-ed43-3087fde17a1a"
      },
      "source": [
        "from fastai.text.all import *\n",
        "from fastai.callback.progress import CSVLogger\n",
        "import pandas as pd\n",
        "import numpy as np\n",
        "print('Pandas version:', pd.__version__)\n",
        "print('numpy version:', np.__version__)"
      ],
      "execution_count": 16,
      "outputs": [
        {
          "output_type": "stream",
          "text": [
            "Pandas version: 1.1.5\n",
            "numpy version: 1.19.5\n"
          ],
          "name": "stdout"
        }
      ]
    },
    {
      "cell_type": "markdown",
      "metadata": {
        "id": "kge0LbKV2HcQ"
      },
      "source": [
        "## Setting a directory"
      ]
    },
    {
      "cell_type": "code",
      "metadata": {
        "colab": {
          "base_uri": "https://localhost:8080/"
        },
        "id": "uoSlotP72JVB",
        "outputId": "670ac5ae-43b2-4c02-ce29-3e48d2ba23ee"
      },
      "source": [
        "from google.colab import drive\n",
        "drive.mount('/content/drive')"
      ],
      "execution_count": 17,
      "outputs": [
        {
          "output_type": "stream",
          "text": [
            "Drive already mounted at /content/drive; to attempt to forcibly remount, call drive.mount(\"/content/drive\", force_remount=True).\n"
          ],
          "name": "stdout"
        }
      ]
    },
    {
      "cell_type": "code",
      "metadata": {
        "colab": {
          "base_uri": "https://localhost:8080/"
        },
        "id": "7GQD6SFE2NJJ",
        "outputId": "497afa46-2b7a-41ad-b045-d5c6e9f1a69c"
      },
      "source": [
        "%cd '/content/drive/MyDrive/Deep Learning/11-11/'"
      ],
      "execution_count": 18,
      "outputs": [
        {
          "output_type": "stream",
          "text": [
            "/content/drive/MyDrive/Deep Learning/11-11\n"
          ],
          "name": "stdout"
        }
      ]
    },
    {
      "cell_type": "code",
      "metadata": {
        "id": "FDFzfJCa3iYN"
      },
      "source": [
        "df = pd.read_csv('1111_dataset.csv')"
      ],
      "execution_count": 19,
      "outputs": []
    },
    {
      "cell_type": "code",
      "metadata": {
        "id": "lfVyh3Bh48on"
      },
      "source": [
        "np.random.seed(42)\n",
        "df['is_valid'] = np.random.choice([0,1], size=len(df), p=[0.9, 0.1])"
      ],
      "execution_count": 20,
      "outputs": []
    },
    {
      "cell_type": "code",
      "metadata": {
        "id": "Cif0YBB75EII"
      },
      "source": [
        "df = df.drop(['agency','source_text','status_text','created_at'], axis = 1)\n",
        "df.rename(columns = {'content' : 'text', 'type_text' : 'label'}, inplace = True)"
      ],
      "execution_count": 21,
      "outputs": []
    },
    {
      "cell_type": "code",
      "metadata": {
        "colab": {
          "base_uri": "https://localhost:8080/",
          "height": 204
        },
        "id": "l6mDH8vy5Wga",
        "outputId": "987778e2-3a82-4a9b-c240-c727207257e9"
      },
      "source": [
        "df.head()"
      ],
      "execution_count": 22,
      "outputs": [
        {
          "output_type": "execute_result",
          "data": {
            "text/html": [
              "<div>\n",
              "<style scoped>\n",
              "    .dataframe tbody tr th:only-of-type {\n",
              "        vertical-align: middle;\n",
              "    }\n",
              "\n",
              "    .dataframe tbody tr th {\n",
              "        vertical-align: top;\n",
              "    }\n",
              "\n",
              "    .dataframe thead th {\n",
              "        text-align: right;\n",
              "    }\n",
              "</style>\n",
              "<table border=\"1\" class=\"dataframe\">\n",
              "  <thead>\n",
              "    <tr style=\"text-align: right;\">\n",
              "      <th></th>\n",
              "      <th>text</th>\n",
              "      <th>label</th>\n",
              "      <th>is_valid</th>\n",
              "    </tr>\n",
              "  </thead>\n",
              "  <tbody>\n",
              "    <tr>\n",
              "      <th>0</th>\n",
              "      <td>Дулааны тухай</td>\n",
              "      <td>Гомдол</td>\n",
              "      <td>0</td>\n",
              "    </tr>\n",
              "    <tr>\n",
              "      <th>1</th>\n",
              "      <td>Ерөнхий сайдтай уулзах. Жолоочийн эрх ашиг алдагдаж байна.</td>\n",
              "      <td>Санал хүсэлт</td>\n",
              "      <td>1</td>\n",
              "    </tr>\n",
              "    <tr>\n",
              "      <th>2</th>\n",
              "      <td>Нефтийн үйлдвэр байгуулах тухай.</td>\n",
              "      <td>Санал хүсэлт</td>\n",
              "      <td>0</td>\n",
              "    </tr>\n",
              "    <tr>\n",
              "      <th>3</th>\n",
              "      <td>Жолооны үнэмлэх яагаад хэвлэгдэхгүй байна ?</td>\n",
              "      <td>Санал хүсэлт</td>\n",
              "      <td>0</td>\n",
              "    </tr>\n",
              "    <tr>\n",
              "      <th>4</th>\n",
              "      <td>БГД Гэмтэл-н эмнэлгийн гадуурх хашааг нураах тухай</td>\n",
              "      <td>Гомдол</td>\n",
              "      <td>0</td>\n",
              "    </tr>\n",
              "  </tbody>\n",
              "</table>\n",
              "</div>"
            ],
            "text/plain": [
              "                                                         text  ... is_valid\n",
              "0                                               Дулааны тухай  ...        0\n",
              "1  Ерөнхий сайдтай уулзах. Жолоочийн эрх ашиг алдагдаж байна.  ...        1\n",
              "2                            Нефтийн үйлдвэр байгуулах тухай.  ...        0\n",
              "3                 Жолооны үнэмлэх яагаад хэвлэгдэхгүй байна ?  ...        0\n",
              "4          БГД Гэмтэл-н эмнэлгийн гадуурх хашааг нураах тухай  ...        0\n",
              "\n",
              "[5 rows x 3 columns]"
            ]
          },
          "metadata": {
            "tags": []
          },
          "execution_count": 22
        }
      ]
    },
    {
      "cell_type": "code",
      "metadata": {
        "id": "zpPRVJHk5Xbd"
      },
      "source": [
        "with open('models/mn_20_news_vocab_ft.pkl', 'rb') as f:\n",
        "      vocab = pickle.load(f)"
      ],
      "execution_count": 23,
      "outputs": []
    },
    {
      "cell_type": "code",
      "metadata": {
        "id": "B5AAHqoV5gdv"
      },
      "source": [
        "data_blocks = DataBlock(blocks=(TextBlock.from_df('text', vocab=vocab), CategoryBlock),\n",
        "                    get_x=ColReader('text'),\n",
        "                    get_y=ColReader(1), \n",
        "                    splitter=ColSplitter())"
      ],
      "execution_count": 24,
      "outputs": []
    },
    {
      "cell_type": "code",
      "metadata": {
        "colab": {
          "base_uri": "https://localhost:8080/",
          "height": 71
        },
        "id": "5rA101F_5rcB",
        "outputId": "3f1ee70d-2aa4-497a-adcb-3c0843c2f462"
      },
      "source": [
        "dls = data_blocks.dataloaders(df)"
      ],
      "execution_count": 25,
      "outputs": [
        {
          "output_type": "display_data",
          "data": {
            "text/html": [
              ""
            ],
            "text/plain": [
              "<IPython.core.display.HTML object>"
            ]
          },
          "metadata": {
            "tags": []
          }
        },
        {
          "output_type": "stream",
          "text": [
            "/usr/local/lib/python3.7/dist-packages/numpy/core/_asarray.py:83: VisibleDeprecationWarning: Creating an ndarray from ragged nested sequences (which is a list-or-tuple of lists-or-tuples-or ndarrays with different lengths or shapes) is deprecated. If you meant to do this, you must specify 'dtype=object' when creating the ndarray\n",
            "  return array(a, dtype, copy=False, order=order)\n"
          ],
          "name": "stderr"
        }
      ]
    },
    {
      "cell_type": "code",
      "metadata": {
        "colab": {
          "base_uri": "https://localhost:8080/",
          "height": 804
        },
        "id": "2I_ir4xQ5vfD",
        "outputId": "bb97ef97-2b7f-4849-a94f-5d470b15e3f8"
      },
      "source": [
        "dls.show_batch()"
      ],
      "execution_count": 26,
      "outputs": [
        {
          "output_type": "display_data",
          "data": {
            "text/html": [
              "<table border=\"1\" class=\"dataframe\">\n",
              "  <thead>\n",
              "    <tr style=\"text-align: right;\">\n",
              "      <th></th>\n",
              "      <th>text</th>\n",
              "      <th>category</th>\n",
              "    </tr>\n",
              "  </thead>\n",
              "  <tbody>\n",
              "    <tr>\n",
              "      <th>0</th>\n",
              "      <td>xxbos уих - ын гишүүдэд илгээх ил захидал 2017 оны 1 дүгээр сар 10 улаанбаатар хот уих - ын эрхэм гишүүд та бүхний амар амгаланг эрж xxunk xxunk ? та бүхний төрийн хэргийг xxunk явуулах их үйл хэрэг түвшин амгалан буйзаа . би эгэл xxunk бор амьдрал дунд xxunk бор хоног шар өдрүүдийг чадан ядан өнгөрөөж буй дээдэс та бүхний xxunk гудамжны хүн xxunk гэгч xxunk нэгэн байна . би монгол хүний хувьд улс орон маань ингэж xxunk xxunk байгаад сэтгэл өвдөж монголын маань хойч ирээдүй гэрэлтэй г xxrep 3 э тэй байгаасаа гэсэн чин сэтгэлийн үүднээс өнөө ба ирээдүйн төлөө санаа xxunk өөрийн санаж бодож явдаг зүйлсээ та бүхний сонорт хүргэхээр арваад жил дотроо xxunk за яахав дараагийн засаг төр гараад сайхан болчих байх хэмээн итгэж , найдаж , гоё үг , гоё xxunk хууртаж явсан боловч өнөөдрийн манай нийгэм , улс төр , эдийн засгийн гажуудал , дампуурал</td>\n",
              "      <td>Санал хүсэлт</td>\n",
              "    </tr>\n",
              "    <tr>\n",
              "      <th>1</th>\n",
              "      <td>xxbos тег - ын дарга ариунсан танаа , “ амь авраач xxrep 4 ! гуйж байна . та хүнийг боддоггүй юмаа гэхэд өөрийгөө бодмоор юм . хариуцлага тооцно , шүүхэд өгнө шүү . та өөрөө үр хүүхэдтэй хүн . миний хүүг хүн тамлан алж байгаа . \" амь авраач \" гэж гуйж бна . та нар тушаал өгөхөд хангалттай . монголын ард түмэн туслая гэж байгаа . та нар яагаад хөдлөхгүй байгаа нь сонин байна . тэр гарах зардалыг нь “ багажтай эмэгтэй”-ээр өөрөөр нь гаргуулна биз дээ . өчнөөн жил ийм нүгэлтэй юм хийгээд байж байдаг мөнгөтэй хүн байлгүй . та нар тангараг тавьж гарч ирчихээд яагаад хүлээсэн үүрэг хариуцлагынхаа дагуу ажлаа хийгүй байгаа юм бэ ? энэ бол хүний эрхийг дээд зэргээр зөрчсөн гэмт хэрэг . надад үнэндээ худлаа ярих ухаан , зорилго , учир шалтгаан байхгүй . техник өндөр хөгжсөн байна . би өөрөө ч итгэж чадахгүй</td>\n",
              "      <td>Гомдол</td>\n",
              "    </tr>\n",
              "    <tr>\n",
              "      <th>2</th>\n",
              "      <td>xxbos миний бие мягмарсүрэн овогтой xxunk нь 1989 онд завхан аймгийн баянтэс суманд төрсөн . 1997 - 2007 онд тус сумын ебс - ийг төгсөж 2007 онд мубис - ын бус - ын биологийн багш мэргэжлээр төгссөн . 2013 оны 05-р сард баянзүрх дүүргийн амгалан цогцолбор сургуульд биологийн багшаар ажилд ороод 2014 оны 09 сарын 09-ны өдөр хүртэл ажиллаа . ажиллаж байх хугацаандаа ямар нэгэн хариуцлагагүй алдаа гаргаж байгаагүй . 6-р анги даан 2013 оны 09-р сарын 01-ээс ажиллаж байсан . тус сургуулийн захиралаар н . алимаа нь сонгогдон ажиллаад удалгүй ангиа хүлээлгэж өг хэмээн сувдмаа багшид хариуцуулан өгсөн . 05-р сард дуудан багшийн сонгон шалгаруулалтанд орохгүй бол ажлаас хална гэсэн боловч энэ багшийн сонгон xxunk журам нь нийслэлийн боловсролын газрын даргын тушаалаар 2013 оны 08-р сарын 19-ний өдрийн а / 74 тоот тушаалаар батлагдсан учраас надад үйлчлэхгүй гэсэн боловч хүлээн xxunk . ингээд ажилаа хэвийн үргэлжлүүлж ажиллаж байгаад 2014</td>\n",
              "      <td>Гомдол</td>\n",
              "    </tr>\n",
              "    <tr>\n",
              "      <th>3</th>\n",
              "      <td>xxbos xxup tsagdaagiin xxup yeronhii xxup gazar , shuurhai xxup udirdlagin xxup xxunk , xxrep 4 1 xxup tovd : minii biye 2013 oni 5 sarin xxunk xxunk 11 tsagiin uyed yarmagiin xxunk buudlaas ( xxunk xxunk zuun urd baidag ailuudin xxunk xxunk olon hun xxunk baruun talin tsonhoor shoroo xxunk orj ireed baisand bi avtobusni zuun urd talin tsonhni havid ochij xxunk xxunk getel negen zaluu xxunk xxunk deed xxunk changa huchtei xxunk xxunk yavuulahgui baisan iimd xxunk baigaa yum uragshaa yavuulahgui “ gehed ter xxunk garaa avahgui , xxunk xxunk bi xxunk uragshaa yavah gehed ter minii xxunk gadna tal ruu huchtei xxunk mon hamt yavj baisan zaluu huuhedteigee hamtran xxunk xxunk xxunk bi avtobusni uragshaa xxunk xxunk uyed ted eldveer namaig xxunk , xxunk xxunk hen n ch namaig xxunk buudlin havid yavj baihdaa tsagdaa xxunk bodon humuusees gar xxunk xxrep 3 a xxunk duudlaga ogch tuslahig</td>\n",
              "      <td>Санал хүсэлт</td>\n",
              "    </tr>\n",
              "    <tr>\n",
              "      <th>4</th>\n",
              "      <td>xxbos арван долоодугаар жарны гал тахиа жил 2017 дугаар оны 1 дүгээр сарын 20 дугаар өдөр зам тээврийн хөгжлийн яамны сайд , зам тээврийн хөгжлийн яамны төрийн нарийн бичгийн дарга , нийслэлийн тээврийн газрын дарга болон бусад захиргааны ажилтан албан хаагчид , зорчигч тээврийн нэгтгэл , xxunk , сутайн буянт , автобус нэгдэл , мяралзаа , xxunk , тэнүүн огоо , трансбус , атибус , xxunk , xxunk , xxunk , xxunk , xxunk , сайхан ирээдүй , ирээдүйн аяны зам , xxunk , xxunk , xxunk уул , аз xxunk , xxunk автобус , тролейбусны аж ахуйн нэгжүүдийн захирал , дээд , дунд , бага тушаалын төрийн ажилтан , албан хаагчид , жолооч нар , нийслэлийн засаг дарга бөгөөд улаанбаатар хотын захирагч с.батболд , итх дарга , xxunk , нийслэлийн засаг даргын тамгын газрын дээд , дунд , бага тушаалын ажилтан , албан хаагчид танаа энэхүү гомдол өргөдлийг өргөн</td>\n",
              "      <td>Гомдол</td>\n",
              "    </tr>\n",
              "    <tr>\n",
              "      <th>5</th>\n",
              "      <td>xxbos / ерөнхий сайд . / ц.төмөр миний бие 2004,7,22нд / ёвропын хөгжил / хзхоршоонд схд - ийн 20-р хорооны шинэ цэргийн хотхоны 7 - 52тоот 1өрөө байрыг 4сая төгрөгөөр зээлийн гэрээ хйиж 1сарын хугацаатай барьцаанд тавьсан . гэвч тус хоршоо нь гэрээний дагуу 4сая төгрөгийг надад хүлээлгэн өгөөгүй би ч аваагүй . энэ ч схд - ийн 2006,06,19-ны 596тоот шүүгч алтанцэцэгийн захирамжаар нотлогддог . \\r\\n▁ / ёвропын хөгжил / хзх нь 2 удаа нэхэмжлэл гаргасан . шүүгч алтанцэцэг нь хэрэгийг хэрэгсэхгүй болгох тухай 596тоот захирамжиндаа нэхэмжлэгч нь 4сая төгрөгийг хэнд хүлээлгэн өгсөн тухай нотлох баримт байхгүй байна гээд / ёвропын хөгжил / хзх - ны нэхэмжлэлтэй цэдэндаржаа төмөр холбогдох 9,16 xxrep 4 0 төгрөг гаргуулах тухай нэхэмжлэлийг хүлээн авхаас татгалзаж хэргийг хэрэгсэхгүй болгосугай гэсэн хүчин төгөлдөр шүүгчийн захирамж байсаар атал / ёвропын хөгжил / хзхоошооны эзэн аврын уранцэцэгийн ц , төмөрт 4сая төгрөгийн зээлийг өгсөн . төмөр өөрөө гарын</td>\n",
              "      <td>Гомдол</td>\n",
              "    </tr>\n",
              "    <tr>\n",
              "      <th>6</th>\n",
              "      <td>xxbos / ерөнхий сайд . / ц.төмөр миний бие 2004,7,22нд / ёвропын хөгжил / хзхоршоонд схд - ийн 20-р хорооны шинэ цэргийн хотхоны 7 - 52тоот 1өрөө байрыг 4сая төгрөгөөр зээлийн гэрээ хйиж 1сарын хугацаатай барьцаанд тавьсан . гэвч тус хоршоо нь гэрээний дагуу 4сая төгрөгийг надад хүлээлгэн өгөөгүй би ч аваагүй . энэ ч схд - ийн 2006,06,19-ны 596тоот шүүгч алтанцэцэгийн захирамжаар нотлогддог . \\r\\n▁ / ёвропын хөгжил / хзх нь 2 удаа нэхэмжлэл гаргасан . шүүгч алтанцэцэг нь хэрэгийг хэрэгсэхгүй болгох тухай 596тоот захирамжиндаа нэхэмжлэгч нь 4сая төгрөгийг хэнд хүлээлгэн өгсөн тухай нотлох баримт байхгүй байна гээд / ёвропын хөгжил / хзх - ны нэхэмжлэлтэй цэдэндаржаа төмөр холбогдох 9,16 xxrep 4 0 төгрөг гаргуулах тухай нэхэмжлэлийг хүлээн авхаас татгалзаж хэргийг хэрэгсэхгүй болгосугай гэсэн хүчин төгөлдөр шүүгчийн захирамж байсаар атал / ёвропын хөгжил / хзхоошооны эзэн аврын уранцэцэгийн ц , төмөрт 4сая төгрөгийн зээлийг өгсөн . төмөр өөрөө гарын</td>\n",
              "      <td>Гомдол</td>\n",
              "    </tr>\n",
              "    <tr>\n",
              "      <th>7</th>\n",
              "      <td>xxbos хуш модны самрыг гадаадад гаргах зөвшөөрөл буюу тэмдэгтийн хураамжийн талаар : 1 . татварын хувь хэмжээ 2 . нэн ховор ургамалын жагсаалтыг өөрчлөх асуудлаар ерөнхий сайдтай уулзах хүсэлтэй байна . монголын самар xxunk холбоо тббайгууллага нь 2011 оны 8 сарын 17ны өдөр му - н зг - н тогтоол 250 хуш модны самрын xxunk авах зарим арга хэмжээний тухай тогтоолд заасан ажлыг хэрэгжүүлэн ажиллаж 2014 оны 5 сарын xxunk xxunk дугаар бүхий бонх сайдын тушаалаар ойн дагалт баялагийг хамгаалах xxunk xxunk журмыг тус холбоо хүсэлт гаргаж хамтран батлуулсан . энэ жил хуш модны самрын судалгааны ажлыг ойн судалгаа хөгжлийн төв улсын төсөвт үйлдвэрийн газарт манай холбооны гишүүн байгууллагууд хөрөнгө мөнгөө гаргаж захиалга өгч хамтран ажиллаж дүгнэлт гаргуулан байгаль орчны бодлого зохицуулалт xxunk дарга гантулгад xxunk бонхяамны сайд 2014 оны 10 сарын 14 а / 361 тушаал гарч энэ жил ахуйн болон үйлдвэрлэлийн зориулалтаар ашиглах хууль эрхзүйн орчин бүрдсэн .</td>\n",
              "      <td>Санал хүсэлт</td>\n",
              "    </tr>\n",
              "    <tr>\n",
              "      <th>8</th>\n",
              "      <td>xxbos арван долоодугаар жарны тахиа жил 2017 дугаар оны 1 дүгээр сарын 6 дугаар өдөр нийслэлийн тээврийн газрын дарга отгонбаатар , дээд , дунд , бага тушаалын төрийн албан хаагчид , зорчигч тээврийн газрын дарга , дээд , дунд , бага тушаалын төрийн албан xxunk , xxunk засаг дарга бөгөөд улаанбаатар хотын захирагч с.батболд , дээд , дунд , бага тушаалын төрийн албан хаагчид танаа энэхүү гомдол өргөдлийг өргөн барих учир ину : өчигдөр 20 цаг өнгөрч байх үед сүлжмэлийн автобусны буудлаас 1 - 130 дугаартай автобусанд xxunk шарын буудалд хаалгаа онгойлгон явахгүй xxunk \" хаалгаа хаагаад хурдан яваач ээ , зорчигчид хүйтэнд хөлдөж үхэх нъ , манайхаас өөр оронд зорчигчийн эрхийг зөрчсөн ийм эрүүл бус үйлдэл байхгүй \" хэмээн зорчигч би бээр зүй ёсны шаардлага xxunk жолооч хэмээгч \" цагаар явдаг юм , нилээн хүн суулгаж байгаад явна \" хэмээн үл тоон явахгүй байв . би түүнд \" нийслэлийн</td>\n",
              "      <td>Гомдол</td>\n",
              "    </tr>\n",
              "  </tbody>\n",
              "</table>"
            ],
            "text/plain": [
              "<IPython.core.display.HTML object>"
            ]
          },
          "metadata": {
            "tags": []
          }
        }
      ]
    },
    {
      "cell_type": "code",
      "metadata": {
        "colab": {
          "base_uri": "https://localhost:8080/"
        },
        "id": "sqE9vG21BFRU",
        "outputId": "1c1cd37a-64a2-4df4-fe5a-49bdc6dc189b"
      },
      "source": [
        "dls.vocab[1]"
      ],
      "execution_count": 27,
      "outputs": [
        {
          "output_type": "execute_result",
          "data": {
            "text/plain": [
              "['Гомдол', 'Санал хүсэлт', 'Талархал', 'Шүүмжлэл', 'Өргөдөл']"
            ]
          },
          "metadata": {
            "tags": []
          },
          "execution_count": 27
        }
      ]
    },
    {
      "cell_type": "markdown",
      "metadata": {
        "id": "M2EVS7CCIndf"
      },
      "source": [
        "## Training "
      ]
    },
    {
      "cell_type": "code",
      "metadata": {
        "id": "-oGyrjuUIbI-"
      },
      "source": [
        "#pretrained = False\n",
        "learn = text_classifier_learner(dls, AWD_LSTM, drop_mult=0.5, pretrained=False, \n",
        "                                 metrics=[accuracy]).to_fp16()"
      ],
      "execution_count": 28,
      "outputs": []
    },
    {
      "cell_type": "code",
      "metadata": {
        "id": "AjqkmfuVIyM4"
      },
      "source": [
        "notebook_path = Path('').absolute()"
      ],
      "execution_count": 29,
      "outputs": []
    },
    {
      "cell_type": "code",
      "metadata": {
        "id": "9tthOdaPI1EZ"
      },
      "source": [
        "learn.path = notebook_path"
      ],
      "execution_count": 30,
      "outputs": []
    },
    {
      "cell_type": "code",
      "metadata": {
        "colab": {
          "base_uri": "https://localhost:8080/"
        },
        "id": "tjVh7LLAI2u_",
        "outputId": "dca50ebf-1457-41b8-81e3-50750fb85e3b"
      },
      "source": [
        "learn.load_encoder(notebook_path/'models/mn_20_news_encoder_ft')"
      ],
      "execution_count": 31,
      "outputs": [
        {
          "output_type": "execute_result",
          "data": {
            "text/plain": [
              "<fastai.text.learner.TextLearner at 0x7f4d29cb6150>"
            ]
          },
          "metadata": {
            "tags": []
          },
          "execution_count": 31
        }
      ]
    },
    {
      "cell_type": "code",
      "metadata": {
        "colab": {
          "base_uri": "https://localhost:8080/",
          "height": 300
        },
        "id": "_BBa9XLII5W-",
        "outputId": "95857974-a064-4f2c-c2ca-c769a19422d2"
      },
      "source": [
        "learn.lr_find()"
      ],
      "execution_count": 32,
      "outputs": [
        {
          "output_type": "display_data",
          "data": {
            "text/html": [
              ""
            ],
            "text/plain": [
              "<IPython.core.display.HTML object>"
            ]
          },
          "metadata": {
            "tags": []
          }
        },
        {
          "output_type": "execute_result",
          "data": {
            "text/plain": [
              "SuggestedLRs(lr_min=0.03019951581954956, lr_steep=0.03981071710586548)"
            ]
          },
          "metadata": {
            "tags": []
          },
          "execution_count": 32
        },
        {
          "output_type": "display_data",
          "data": {
            "image/png": "[encoded data removed]",
            "text/plain": [
              "<Figure size 432x288 with 1 Axes>"
            ]
          },
          "metadata": {
            "tags": [],
            "needs_background": "light"
          }
        }
      ]
    },
    {
      "cell_type": "code",
      "metadata": {
        "id": "cy11bDr1I-U_"
      },
      "source": [
        "# lerning rate = 10^-0.95\n",
        "lr = 3e-2"
      ],
      "execution_count": 33,
      "outputs": []
    },
    {
      "cell_type": "code",
      "metadata": {
        "id": "D_tcbwsTMOvm"
      },
      "source": [
        "cbs=[CSVLogger(fname='classification_1111.mn.csv')]"
      ],
      "execution_count": 34,
      "outputs": []
    },
    {
      "cell_type": "code",
      "metadata": {
        "colab": {
          "base_uri": "https://localhost:8080/",
          "height": 205
        },
        "id": "XEisQRN-Mhos",
        "outputId": "d36a6b0e-b687-4928-c843-d740e176f804"
      },
      "source": [
        "learn.fine_tune(3, lr, cbs=cbs)"
      ],
      "execution_count": 35,
      "outputs": [
        {
          "output_type": "display_data",
          "data": {
            "text/html": [
              "<table border=\"1\" class=\"dataframe\">\n",
              "  <thead>\n",
              "    <tr style=\"text-align: left;\">\n",
              "      <th>epoch</th>\n",
              "      <th>train_loss</th>\n",
              "      <th>valid_loss</th>\n",
              "      <th>accuracy</th>\n",
              "      <th>time</th>\n",
              "    </tr>\n",
              "  </thead>\n",
              "  <tbody>\n",
              "    <tr>\n",
              "      <td>0</td>\n",
              "      <td>0.694556</td>\n",
              "      <td>0.643127</td>\n",
              "      <td>0.750286</td>\n",
              "      <td>03:27</td>\n",
              "    </tr>\n",
              "  </tbody>\n",
              "</table>"
            ],
            "text/plain": [
              "<IPython.core.display.HTML object>"
            ]
          },
          "metadata": {
            "tags": []
          }
        },
        {
          "output_type": "display_data",
          "data": {
            "text/html": [
              "<table border=\"1\" class=\"dataframe\">\n",
              "  <thead>\n",
              "    <tr style=\"text-align: left;\">\n",
              "      <th>epoch</th>\n",
              "      <th>train_loss</th>\n",
              "      <th>valid_loss</th>\n",
              "      <th>accuracy</th>\n",
              "      <th>time</th>\n",
              "    </tr>\n",
              "  </thead>\n",
              "  <tbody>\n",
              "    <tr>\n",
              "      <td>0</td>\n",
              "      <td>0.611922</td>\n",
              "      <td>0.582309</td>\n",
              "      <td>0.775996</td>\n",
              "      <td>08:53</td>\n",
              "    </tr>\n",
              "    <tr>\n",
              "      <td>1</td>\n",
              "      <td>0.552377</td>\n",
              "      <td>0.544747</td>\n",
              "      <td>0.784142</td>\n",
              "      <td>08:52</td>\n",
              "    </tr>\n",
              "    <tr>\n",
              "      <td>2</td>\n",
              "      <td>0.480966</td>\n",
              "      <td>0.535497</td>\n",
              "      <td>0.788851</td>\n",
              "      <td>08:52</td>\n",
              "    </tr>\n",
              "  </tbody>\n",
              "</table>"
            ],
            "text/plain": [
              "<IPython.core.display.HTML object>"
            ]
          },
          "metadata": {
            "tags": []
          }
        }
      ]
    },
    {
      "cell_type": "code",
      "metadata": {
        "colab": {
          "base_uri": "https://localhost:8080/",
          "height": 265
        },
        "id": "8kTaIvN_Rlzk",
        "outputId": "9dc2484e-2dff-4c44-b5a7-0b337d396db8"
      },
      "source": [
        "learn.recorder.plot_loss()"
      ],
      "execution_count": 36,
      "outputs": [
        {
          "output_type": "display_data",
          "data": {
            "image/png": "[encoded data removed]",
            "text/plain": [
              "<Figure size 432x288 with 1 Axes>"
            ]
          },
          "metadata": {
            "tags": [],
            "needs_background": "light"
          }
        }
      ]
    },
    {
      "cell_type": "code",
      "metadata": {
        "id": "vx3oF1u1RrmH"
      },
      "source": [
        "learn.export()"
      ],
      "execution_count": 37,
      "outputs": []
    },
    {
      "cell_type": "markdown",
      "metadata": {
        "id": "lZoEUD9vRxaO"
      },
      "source": [
        "## Performing a inference"
      ]
    },
    {
      "cell_type": "code",
      "metadata": {
        "colab": {
          "base_uri": "https://localhost:8080/",
          "height": 495
        },
        "id": "uOasyXkAR1BT",
        "outputId": "974ea156-e385-4c62-af86-611043ab2c6d"
      },
      "source": [
        "df.sample(10, random_state=42)"
      ],
      "execution_count": 38,
      "outputs": [
        {
          "output_type": "execute_result",
          "data": {
            "text/html": [
              "<div>\n",
              "<style scoped>\n",
              "    .dataframe tbody tr th:only-of-type {\n",
              "        vertical-align: middle;\n",
              "    }\n",
              "\n",
              "    .dataframe tbody tr th {\n",
              "        vertical-align: top;\n",
              "    }\n",
              "\n",
              "    .dataframe thead th {\n",
              "        text-align: right;\n",
              "    }\n",
              "</style>\n",
              "<table border=\"1\" class=\"dataframe\">\n",
              "  <thead>\n",
              "    <tr style=\"text-align: right;\">\n",
              "      <th></th>\n",
              "      <th>text</th>\n",
              "      <th>label</th>\n",
              "      <th>is_valid</th>\n",
              "    </tr>\n",
              "  </thead>\n",
              "  <tbody>\n",
              "    <tr>\n",
              "      <th>46374</th>\n",
              "      <td>5-р сард овог солиулсан 6-р сараас хойш хүүхдийн 20,0 төгрөг нь орохгүй байна.Золзаяа овогтой Нэрмэнд Өнөржаргал овогтой Нэрмэнд болгож өөрчилсөн.рд:НД99061511 Овог нэрийн зөрчилтэй байгаа эсэхийг шалгаж өгнө үү.</td>\n",
              "      <td>Санал хүсэлт</td>\n",
              "      <td>0</td>\n",
              "    </tr>\n",
              "    <tr>\n",
              "      <th>25073</th>\n",
              "      <td>Тв5 телевиз хөдөө орон нутагт гарахгүй байна. Яагаад гарахгүй баыгаа шалтгааныг хэлж өгнө үү.</td>\n",
              "      <td>Санал хүсэлт</td>\n",
              "      <td>0</td>\n",
              "    </tr>\n",
              "    <tr>\n",
              "      <th>17247</th>\n",
              "      <td>СХД-ийн түргэн тусламжийн төв хүүхэд үзэхгүй байна. Хүүхэд үздэг эмч нь түргэнд явсан гэж байна. Хүлээн авах дээр эмчтэй байх хэрэгтэй байна. Түргэн тусламжийн 4 машин гадаа нь байна. Том хүн үздэг эмч нь байна. Хүүхэд үзэхгүй гээд байна. Энэ тал дээр арга хэмжээ авч өгнө үү.</td>\n",
              "      <td>Санал хүсэлт</td>\n",
              "      <td>0</td>\n",
              "    </tr>\n",
              "    <tr>\n",
              "      <th>32744</th>\n",
              "      <td>Ерөнхий сайдад: Цалин нэмэх сургаар бараа бүтээгдэхүүний үнэ өсдөг. Иймээс цалин нэмээд ямар ч нэмэр байхгүй байна. Худалдааны хууль, Үнэ бүрдэлтийн хуулийг яаралтай гаргах хэрэгтэй байна.</td>\n",
              "      <td>Санал хүсэлт</td>\n",
              "      <td>0</td>\n",
              "    </tr>\n",
              "    <tr>\n",
              "      <th>48736</th>\n",
              "      <td>manai hvvhdiin mungu orohgvi bn aa Bilgvvn owogtoi Enerel EO13271410 vvniig shalgaad ogno vv 1,2 sariinh ni mungu oroogvi orohgvi bn</td>\n",
              "      <td>Санал хүсэлт</td>\n",
              "      <td>0</td>\n",
              "    </tr>\n",
              "    <tr>\n",
              "      <th>66735</th>\n",
              "      <td>Ховд аймгийн Үент сумын иргэн байна. Ажлын хүнд нөхцөлөөр тэтгэвэрт гарахаар болзол хангасан ба шүүхийн шийдвэр нь гарсан байхад Ховд аймгийн нийгмийн даатгалын хэлтэсээс боломжгүй гэж байна. Энэ асуудлыг яаралтай шийдвэрлэж өгнө үү.</td>\n",
              "      <td>Санал хүсэлт</td>\n",
              "      <td>0</td>\n",
              "    </tr>\n",
              "    <tr>\n",
              "      <th>64492</th>\n",
              "      <td>Толгойт орчмын замыг хэзээ засч өгөх вэ? энэ асуудалд тодорхой хариу өгнө үү.</td>\n",
              "      <td>Санал хүсэлт</td>\n",
              "      <td>0</td>\n",
              "    </tr>\n",
              "    <tr>\n",
              "      <th>30149</th>\n",
              "      <td>kig gedeg kompanii oruulj irj baigaa kioskiig shalgaj baigaa yum bn bz dyyrgiin zasag dargiin tamgiin gazraas hydaldsan kiosgiig yagaad shalgaj ogdoggyi yum be yamriig n shalgaad yamriig n shalgaj ogdoggyi yum be</td>\n",
              "      <td>Гомдол</td>\n",
              "      <td>0</td>\n",
              "    </tr>\n",
              "    <tr>\n",
              "      <th>64702</th>\n",
              "      <td>3-р төрөх эмнэлгийн үйл ажиллагаа маш муу байна.Хүлээн авах нь ачаалал багатай байгаа хирнээ ажлаа хийгээд түргэн шуурхай үйлчлэхгүй юм.</td>\n",
              "      <td>Шүүмжлэл</td>\n",
              "      <td>0</td>\n",
              "    </tr>\n",
              "    <tr>\n",
              "      <th>50194</th>\n",
              "      <td>БЗД-ийн 17-р хорооны 666-р гудамжинд амьдардаг. Манай гудамжинд байнга 15-20 машин эгнүүлж худалдаа хийдэг. Энд байгаа хүмүүс гудамж талбайруу шээж бааж орчин тойронг бохирдуулж байна. Энэ талаар өөрсдөн хэлэхээр танхай улсууд тухайн оршин суугчдыг элдвээр хэлж зодож байна. Энэ асуудлаар хорооны Засаг даргад хэлсэн боловч асуудлыг шийдэж өгч чадахгүй байна. Энэ машины худалдаа хийж байгаа асуудлыг болиулж өгнө үү. Арга хэмжээ авч өгнө үү.</td>\n",
              "      <td>Санал хүсэлт</td>\n",
              "      <td>0</td>\n",
              "    </tr>\n",
              "  </tbody>\n",
              "</table>\n",
              "</div>"
            ],
            "text/plain": [
              "                                                                                                                                                                                                                                                                                                                                                                                                                                                             text  ... is_valid\n",
              "46374                                                                                                                                                                                                                                        5-р сард овог солиулсан 6-р сараас хойш хүүхдийн 20,0 төгрөг нь орохгүй байна.Золзаяа овогтой Нэрмэнд Өнөржаргал овогтой Нэрмэнд болгож өөрчилсөн.рд:НД99061511 Овог нэрийн зөрчилтэй байгаа эсэхийг шалгаж өгнө үү.  ...        0\n",
              "25073                                                                                                                                                                                                                                                                                                                                                               Тв5 телевиз хөдөө орон нутагт гарахгүй байна. Яагаад гарахгүй баыгаа шалтгааныг хэлж өгнө үү.  ...        0\n",
              "17247                                                                                                                                                                        СХД-ийн түргэн тусламжийн төв хүүхэд үзэхгүй байна. Хүүхэд үздэг эмч нь түргэнд явсан гэж байна. Хүлээн авах дээр эмчтэй байх хэрэгтэй байна. Түргэн тусламжийн 4 машин гадаа нь байна. Том хүн үздэг эмч нь байна. Хүүхэд үзэхгүй гээд байна. Энэ тал дээр арга хэмжээ авч өгнө үү.  ...        0\n",
              "32744                                                                                                                                                                                                                                                                Ерөнхий сайдад: Цалин нэмэх сургаар бараа бүтээгдэхүүний үнэ өсдөг. Иймээс цалин нэмээд ямар ч нэмэр байхгүй байна. Худалдааны хууль, Үнэ бүрдэлтийн хуулийг яаралтай гаргах хэрэгтэй байна.  ...        0\n",
              "48736                                                                                                                                                                                                                                                                                                                        manai hvvhdiin mungu orohgvi bn aa Bilgvvn owogtoi Enerel EO13271410 vvniig shalgaad ogno vv 1,2 sariinh ni mungu oroogvi orohgvi bn  ...        0\n",
              "66735                                                                                                                                                                                                                   Ховд аймгийн Үент сумын иргэн байна. Ажлын хүнд нөхцөлөөр тэтгэвэрт гарахаар болзол хангасан ба шүүхийн шийдвэр нь гарсан байхад Ховд аймгийн нийгмийн даатгалын хэлтэсээс боломжгүй гэж байна. Энэ асуудлыг яаралтай шийдвэрлэж өгнө үү.  ...        0\n",
              "64492                                                                                                                                                                                                                                                                                                                                                                               Толгойт орчмын замыг хэзээ засч өгөх вэ? энэ асуудалд тодорхой хариу өгнө үү.  ...        0\n",
              "30149                                                                                                                                                                                                                                        kig gedeg kompanii oruulj irj baigaa kioskiig shalgaj baigaa yum bn bz dyyrgiin zasag dargiin tamgiin gazraas hydaldsan kiosgiig yagaad shalgaj ogdoggyi yum be yamriig n shalgaad yamriig n shalgaj ogdoggyi yum be  ...        0\n",
              "64702                                                                                                                                                                                                                                                                                                                    3-р төрөх эмнэлгийн үйл ажиллагаа маш муу байна.Хүлээн авах нь ачаалал багатай байгаа хирнээ ажлаа хийгээд түргэн шуурхай үйлчлэхгүй юм.  ...        0\n",
              "50194  БЗД-ийн 17-р хорооны 666-р гудамжинд амьдардаг. Манай гудамжинд байнга 15-20 машин эгнүүлж худалдаа хийдэг. Энд байгаа хүмүүс гудамж талбайруу шээж бааж орчин тойронг бохирдуулж байна. Энэ талаар өөрсдөн хэлэхээр танхай улсууд тухайн оршин суугчдыг элдвээр хэлж зодож байна. Энэ асуудлаар хорооны Засаг даргад хэлсэн боловч асуудлыг шийдэж өгч чадахгүй байна. Энэ машины худалдаа хийж байгаа асуудлыг болиулж өгнө үү. Арга хэмжээ авч өгнө үү.  ...        0\n",
              "\n",
              "[10 rows x 3 columns]"
            ]
          },
          "metadata": {
            "tags": []
          },
          "execution_count": 38
        }
      ]
    },
    {
      "cell_type": "code",
      "metadata": {
        "id": "PNglRsRVR4P0"
      },
      "source": [
        "dl = learn.dls.test_dl(df.sample(10, random_state=42)['text'])"
      ],
      "execution_count": 39,
      "outputs": []
    },
    {
      "cell_type": "code",
      "metadata": {
        "colab": {
          "base_uri": "https://localhost:8080/",
          "height": 17
        },
        "id": "Vmga0DV9SAhb",
        "outputId": "56b2dac6-8c4e-4b70-81d1-7b46fab1f2f2"
      },
      "source": [
        "probs, name, decoded = learn.get_preds(dl=dl, with_decoded=True)"
      ],
      "execution_count": 40,
      "outputs": [
        {
          "output_type": "display_data",
          "data": {
            "text/html": [
              ""
            ],
            "text/plain": [
              "<IPython.core.display.HTML object>"
            ]
          },
          "metadata": {
            "tags": []
          }
        }
      ]
    },
    {
      "cell_type": "code",
      "metadata": {
        "id": "RUn7184RSCKb"
      },
      "source": [
        "vocab = learn.dls.vocab[1]\n",
        "mapper = lambda t: vocab[t]\n",
        "vfunc = np.vectorize(mapper)\n",
        "cats = vfunc(decoded)"
      ],
      "execution_count": 41,
      "outputs": []
    },
    {
      "cell_type": "code",
      "metadata": {
        "colab": {
          "base_uri": "https://localhost:8080/"
        },
        "id": "GhwNF9InSELL",
        "outputId": "1f187bda-d739-4729-ab71-cdee5c4781ad"
      },
      "source": [
        "cats"
      ],
      "execution_count": 42,
      "outputs": [
        {
          "output_type": "execute_result",
          "data": {
            "text/plain": [
              "array(['Санал хүсэлт', 'Санал хүсэлт', 'Санал хүсэлт', 'Санал хүсэлт',\n",
              "       'Санал хүсэлт', 'Санал хүсэлт', 'Санал хүсэлт', 'Санал хүсэлт',\n",
              "       'Шүүмжлэл', 'Санал хүсэлт'], dtype='<U12')"
            ]
          },
          "metadata": {
            "tags": []
          },
          "execution_count": 42
        }
      ]
    },
    {
      "cell_type": "code",
      "metadata": {
        "colab": {
          "base_uri": "https://localhost:8080/"
        },
        "id": "Z5E4erUoSF_b",
        "outputId": "8bc0f0a9-10c4-4367-db11-71401d1a3a99"
      },
      "source": [
        "df.sample(10, random_state=42)['label']"
      ],
      "execution_count": 45,
      "outputs": [
        {
          "output_type": "execute_result",
          "data": {
            "text/plain": [
              "46374    Санал хүсэлт\n",
              "25073    Санал хүсэлт\n",
              "17247    Санал хүсэлт\n",
              "32744    Санал хүсэлт\n",
              "48736    Санал хүсэлт\n",
              "66735    Санал хүсэлт\n",
              "64492    Санал хүсэлт\n",
              "30149          Гомдол\n",
              "64702        Шүүмжлэл\n",
              "50194    Санал хүсэлт\n",
              "Name: label, dtype: object"
            ]
          },
          "metadata": {
            "tags": []
          },
          "execution_count": 45
        }
      ]
    },
    {
      "cell_type": "code",
      "metadata": {
        "id": "ue818brmSJRz"
      },
      "source": [
        ""
      ],
      "execution_count": null,
      "outputs": []
    }
  ]
}