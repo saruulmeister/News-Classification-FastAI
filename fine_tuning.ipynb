{
  "nbformat": 4,
  "nbformat_minor": 0,
  "metadata": {
    "colab": {
      "name": "fine-tuning",
      "provenance": []
    },
    "kernelspec": {
      "display_name": "Python 3",
      "name": "python3"
    },
    "language_info": {
      "name": "python"
    }
  },
  "cells": [
    {
      "cell_type": "markdown",
      "metadata": {
        "id": "4OmjLJ-fs5OZ"
      },
      "source": [
        "# 11-11.mn- News Classification"
      ]
    },
    {
      "cell_type": "markdown",
      "metadata": {
        "id": "ePypIXUDvr8M"
      },
      "source": [
        "- Train a general language model.\n",
        "- Fine-tune model on your target corpus.\n",
        "- Train a classifier."
      ]
    },
    {
      "cell_type": "markdown",
      "metadata": {
        "id": "c6GUxbIqtNo0"
      },
      "source": [
        "### Installing and importing libraties"
      ]
    },
    {
      "cell_type": "code",
      "metadata": {
        "colab": {
          "background_save": true
        },
        "id": "Hhk4dRLTs73r",
        "outputId": "3b031c6a-11ed-4e3d-f8bb-ec4f170d66c0"
      },
      "source": [
        "!pip install -Uqq torchtext==0.8.0\n",
        "!pip install -Uqq fastai --upgrade\n",
        "!pip install -Uqq fastcore --upgrade\n",
        "!pip install -Uqq pandas==1.1.0"
      ],
      "execution_count": null,
      "outputs": [
        {
          "output_type": "stream",
          "text": [
            "\u001b[K     |████████████████████████████████| 7.0MB 4.1MB/s \n",
            "\u001b[K     |████████████████████████████████| 204kB 4.3MB/s \n",
            "\u001b[K     |████████████████████████████████| 61kB 6.7MB/s \n",
            "\u001b[K     |████████████████████████████████| 10.5MB 5.6MB/s \n",
            "\u001b[?25h"
          ],
          "name": "stdout"
        }
      ]
    },
    {
      "cell_type": "code",
      "metadata": {
        "colab": {
          "base_uri": "https://localhost:8080/"
        },
        "id": "dXZytx3DtGCZ",
        "outputId": "05b4f2b2-c36c-4d8c-cbd0-3ed68755e384"
      },
      "source": [
        "!pip install -Uqq gdown"
      ],
      "execution_count": null,
      "outputs": [
        {
          "output_type": "stream",
          "text": [
            "  Installing build dependencies ... \u001b[?25l\u001b[?25hdone\n",
            "  Getting requirements to build wheel ... \u001b[?25l\u001b[?25hdone\n",
            "    Preparing wheel metadata ... \u001b[?25l\u001b[?25hdone\n",
            "  Building wheel for gdown (PEP 517) ... \u001b[?25l\u001b[?25hdone\n"
          ],
          "name": "stdout"
        }
      ]
    },
    {
      "cell_type": "code",
      "metadata": {
        "colab": {
          "base_uri": "https://localhost:8080/"
        },
        "id": "9lL6LOiwtsju",
        "outputId": "ab6aba83-5706-4186-c4e5-3943672de20a"
      },
      "source": [
        "import fastai\n",
        "import fastcore\n",
        "print('Fast.ai version:', fastai.__version__)\n",
        "print('Fastcore version:', fastcore.__version__)"
      ],
      "execution_count": null,
      "outputs": [
        {
          "output_type": "stream",
          "text": [
            "Fast.ai version: 2.3.1\n",
            "Fastcore version: 1.3.20\n"
          ],
          "name": "stdout"
        }
      ]
    },
    {
      "cell_type": "code",
      "metadata": {
        "colab": {
          "base_uri": "https://localhost:8080/"
        },
        "id": "fa-XOSq8txSK",
        "outputId": "9982d1f0-c52f-4129-e070-ddb92f8b9411"
      },
      "source": [
        "from fastai.text.all import *\n",
        "from fastai.callback.progress import CSVLogger\n",
        "import pandas as pd\n",
        "import numpy as np\n",
        "print('Pandas version:', pd.__version__)\n",
        "print('numpy version:', np.__version__)"
      ],
      "execution_count": null,
      "outputs": [
        {
          "output_type": "stream",
          "text": [
            "Pandas version: 1.1.5\n",
            "numpy version: 1.19.5\n"
          ],
          "name": "stdout"
        }
      ]
    },
    {
      "cell_type": "code",
      "metadata": {
        "id": "yVu6ILgrt0tQ"
      },
      "source": [
        "import gdown"
      ],
      "execution_count": null,
      "outputs": []
    },
    {
      "cell_type": "code",
      "metadata": {
        "colab": {
          "base_uri": "https://localhost:8080/"
        },
        "id": "JUGXVyQct4__",
        "outputId": "cc1eb712-8f51-4667-c8e1-0b33f9af8e32"
      },
      "source": [
        "from google.colab import drive\n",
        "drive.mount('/content/drive')"
      ],
      "execution_count": null,
      "outputs": [
        {
          "output_type": "stream",
          "text": [
            "Mounted at /content/drive\n"
          ],
          "name": "stdout"
        }
      ]
    },
    {
      "cell_type": "code",
      "metadata": {
        "colab": {
          "base_uri": "https://localhost:8080/"
        },
        "id": "HR4BhQeut7_d",
        "outputId": "47d73e01-be79-40d8-b0ca-291d47ea875a"
      },
      "source": [
        "%cd '/content/drive/MyDrive/Deep Learning/11-11'"
      ],
      "execution_count": null,
      "outputs": [
        {
          "output_type": "stream",
          "text": [
            "/content/drive/MyDrive/Deep Learning/11-11\n"
          ],
          "name": "stdout"
        }
      ]
    },
    {
      "cell_type": "code",
      "metadata": {
        "colab": {
          "base_uri": "https://localhost:8080/"
        },
        "id": "IlzBWYcAuZHh",
        "outputId": "9ecfb743-1734-42fe-bcd1-e5ebbe4fcdd4"
      },
      "source": [
        "!nvidia-smi"
      ],
      "execution_count": null,
      "outputs": [
        {
          "output_type": "stream",
          "text": [
            "Tue May 11 12:10:41 2021       \n",
            "+-----------------------------------------------------------------------------+\n",
            "| NVIDIA-SMI 465.19.01    Driver Version: 460.32.03    CUDA Version: 11.2     |\n",
            "|-------------------------------+----------------------+----------------------+\n",
            "| GPU  Name        Persistence-M| Bus-Id        Disp.A | Volatile Uncorr. ECC |\n",
            "| Fan  Temp  Perf  Pwr:Usage/Cap|         Memory-Usage | GPU-Util  Compute M. |\n",
            "|                               |                      |               MIG M. |\n",
            "|===============================+======================+======================|\n",
            "|   0  Tesla T4            Off  | 00000000:00:04.0 Off |                    0 |\n",
            "| N/A   44C    P8     9W /  70W |      3MiB / 15109MiB |      0%      Default |\n",
            "|                               |                      |                  N/A |\n",
            "+-------------------------------+----------------------+----------------------+\n",
            "                                                                               \n",
            "+-----------------------------------------------------------------------------+\n",
            "| Processes:                                                                  |\n",
            "|  GPU   GI   CI        PID   Type   Process name                  GPU Memory |\n",
            "|        ID   ID                                                   Usage      |\n",
            "|=============================================================================|\n",
            "|  No running processes found                                                 |\n",
            "+-----------------------------------------------------------------------------+\n"
          ],
          "name": "stdout"
        }
      ]
    },
    {
      "cell_type": "markdown",
      "metadata": {
        "id": "eGpLT3qq6xMJ"
      },
      "source": [
        "### Pretrained model"
      ]
    },
    {
      "cell_type": "code",
      "metadata": {
        "colab": {
          "base_uri": "https://localhost:8080/",
          "height": 103
        },
        "id": "qQ5F0E_Zucwk",
        "outputId": "b387b9e8-b2cf-40f5-c1ef-070d496772f0"
      },
      "source": [
        "os.mkdir('models')\n",
        "url = 'https://drive.google.com/uc?id=12c9UQFa5pea1Ef02sdEF-T9yTFPYbwoa'\n",
        "output = 'models/mn_large_news20.pth'\n",
        "gdown.download(url, output)"
      ],
      "execution_count": null,
      "outputs": [
        {
          "output_type": "stream",
          "text": [
            "Downloading...\n",
            "From: https://drive.google.com/uc?id=12c9UQFa5pea1Ef02sdEF-T9yTFPYbwoa\n",
            "To: /content/drive/My Drive/Deep Learning/11-11/models/mn_large_news20.pth\n",
            "177MB [00:01, 142MB/s]\n"
          ],
          "name": "stderr"
        },
        {
          "output_type": "execute_result",
          "data": {
            "application/vnd.google.colaboratory.intrinsic+json": {
              "type": "string"
            },
            "text/plain": [
              "'models/mn_large_news20.pth'"
            ]
          },
          "metadata": {
            "tags": []
          },
          "execution_count": 11
        }
      ]
    },
    {
      "cell_type": "markdown",
      "metadata": {
        "id": "htZeemJe60NZ"
      },
      "source": [
        "### Vocabulary"
      ]
    },
    {
      "cell_type": "code",
      "metadata": {
        "colab": {
          "base_uri": "https://localhost:8080/",
          "height": 103
        },
        "id": "PGVNP85w6qCT",
        "outputId": "1e25fd12-8e33-408f-bdc1-fb0d996afed5"
      },
      "source": [
        "url = 'https://drive.google.com/uc?id=1Go4hK1xuifDeFelpI-wAyxJh0i66gkn-'\n",
        "output = 'models/mn_large_news20_vocab.pkl'\n",
        "gdown.download(url, output)"
      ],
      "execution_count": null,
      "outputs": [
        {
          "output_type": "stream",
          "text": [
            "Downloading...\n",
            "From: https://drive.google.com/uc?id=1Go4hK1xuifDeFelpI-wAyxJh0i66gkn-\n",
            "To: /content/drive/My Drive/Deep Learning/11-11/models/mn_large_news20_vocab.pkl\n",
            "100%|██████████| 1.08M/1.08M [00:00<00:00, 86.4MB/s]\n"
          ],
          "name": "stderr"
        },
        {
          "output_type": "execute_result",
          "data": {
            "application/vnd.google.colaboratory.intrinsic+json": {
              "type": "string"
            },
            "text/plain": [
              "'models/mn_large_news20_vocab.pkl'"
            ]
          },
          "metadata": {
            "tags": []
          },
          "execution_count": 12
        }
      ]
    },
    {
      "cell_type": "markdown",
      "metadata": {
        "id": "43g4IW8j8nfk"
      },
      "source": [
        "## Loading a dataset"
      ]
    },
    {
      "cell_type": "code",
      "metadata": {
        "colab": {
          "base_uri": "https://localhost:8080/",
          "height": 204
        },
        "id": "iSSmavcB750K",
        "outputId": "c060312d-24b9-4f3b-80f8-f0baca44b6af"
      },
      "source": [
        "df = pd.read_csv('1111_dataset.csv')\n",
        "df.head()"
      ],
      "execution_count": null,
      "outputs": [
        {
          "output_type": "execute_result",
          "data": {
            "text/html": [
              "<div>\n",
              "<style scoped>\n",
              "    .dataframe tbody tr th:only-of-type {\n",
              "        vertical-align: middle;\n",
              "    }\n",
              "\n",
              "    .dataframe tbody tr th {\n",
              "        vertical-align: top;\n",
              "    }\n",
              "\n",
              "    .dataframe thead th {\n",
              "        text-align: right;\n",
              "    }\n",
              "</style>\n",
              "<table border=\"1\" class=\"dataframe\">\n",
              "  <thead>\n",
              "    <tr style=\"text-align: right;\">\n",
              "      <th></th>\n",
              "      <th>agency</th>\n",
              "      <th>content</th>\n",
              "      <th>created_at</th>\n",
              "      <th>source_text</th>\n",
              "      <th>status_text</th>\n",
              "      <th>type_text</th>\n",
              "    </tr>\n",
              "  </thead>\n",
              "  <tbody>\n",
              "    <tr>\n",
              "      <th>0</th>\n",
              "      <td>Нийслэлийн Засаг даргын Тамгын газар</td>\n",
              "      <td>Дулааны тухай</td>\n",
              "      <td>2012-10-13T16:33:29.484371Z</td>\n",
              "      <td>Дуудлага</td>\n",
              "      <td>Хаагдсан</td>\n",
              "      <td>Гомдол</td>\n",
              "    </tr>\n",
              "    <tr>\n",
              "      <th>1</th>\n",
              "      <td>Ерөнхий сайд</td>\n",
              "      <td>Ерөнхий сайдтай уулзах. Жолоочийн эрх ашиг алдагдаж байна.</td>\n",
              "      <td>2012-10-13T16:33:29.492197Z</td>\n",
              "      <td>Биечлэн</td>\n",
              "      <td>Хаагдсан</td>\n",
              "      <td>Санал хүсэлт</td>\n",
              "    </tr>\n",
              "    <tr>\n",
              "      <th>2</th>\n",
              "      <td>Хүнс, хөдөө аж ахуй, хөнгөн үйлдвэрийн яам</td>\n",
              "      <td>Нефтийн үйлдвэр байгуулах тухай.</td>\n",
              "      <td>2012-10-13T16:33:29.495729Z</td>\n",
              "      <td>Дуудлага</td>\n",
              "      <td>Хаагдсан</td>\n",
              "      <td>Санал хүсэлт</td>\n",
              "    </tr>\n",
              "    <tr>\n",
              "      <th>3</th>\n",
              "      <td>Цагдаагийн ерөнхий газар</td>\n",
              "      <td>Жолооны үнэмлэх яагаад хэвлэгдэхгүй байна ?</td>\n",
              "      <td>2012-10-13T16:33:29.499487Z</td>\n",
              "      <td>Дуудлага</td>\n",
              "      <td>Хаагдсан</td>\n",
              "      <td>Санал хүсэлт</td>\n",
              "    </tr>\n",
              "    <tr>\n",
              "      <th>4</th>\n",
              "      <td>Эрүүл мэндийн яам</td>\n",
              "      <td>БГД Гэмтэл-н эмнэлгийн гадуурх хашааг нураах тухай</td>\n",
              "      <td>2012-10-13T16:33:29.503063Z</td>\n",
              "      <td>Дуудлага</td>\n",
              "      <td>Хаагдсан</td>\n",
              "      <td>Гомдол</td>\n",
              "    </tr>\n",
              "  </tbody>\n",
              "</table>\n",
              "</div>"
            ],
            "text/plain": [
              "                                       agency  ...     type_text\n",
              "0        Нийслэлийн Засаг даргын Тамгын газар  ...        Гомдол\n",
              "1                                Ерөнхий сайд  ...  Санал хүсэлт\n",
              "2  Хүнс, хөдөө аж ахуй, хөнгөн үйлдвэрийн яам  ...  Санал хүсэлт\n",
              "3                    Цагдаагийн ерөнхий газар  ...  Санал хүсэлт\n",
              "4                           Эрүүл мэндийн яам  ...        Гомдол\n",
              "\n",
              "[5 rows x 6 columns]"
            ]
          },
          "metadata": {
            "tags": []
          },
          "execution_count": 13
        }
      ]
    },
    {
      "cell_type": "code",
      "metadata": {
        "id": "juw47ko085Bs"
      },
      "source": [
        "np.random.seed(42)\n",
        "df['is_valid'] = np.random.choice([0,1], size=len(df), p=[0.9, 0.1])"
      ],
      "execution_count": null,
      "outputs": []
    },
    {
      "cell_type": "code",
      "metadata": {
        "colab": {
          "base_uri": "https://localhost:8080/",
          "height": 204
        },
        "id": "aonyKiobG2MD",
        "outputId": "282ed278-1a10-494f-8cad-1c39f1231455"
      },
      "source": [
        "df.head()"
      ],
      "execution_count": null,
      "outputs": [
        {
          "output_type": "execute_result",
          "data": {
            "text/html": [
              "<div>\n",
              "<style scoped>\n",
              "    .dataframe tbody tr th:only-of-type {\n",
              "        vertical-align: middle;\n",
              "    }\n",
              "\n",
              "    .dataframe tbody tr th {\n",
              "        vertical-align: top;\n",
              "    }\n",
              "\n",
              "    .dataframe thead th {\n",
              "        text-align: right;\n",
              "    }\n",
              "</style>\n",
              "<table border=\"1\" class=\"dataframe\">\n",
              "  <thead>\n",
              "    <tr style=\"text-align: right;\">\n",
              "      <th></th>\n",
              "      <th>agency</th>\n",
              "      <th>content</th>\n",
              "      <th>created_at</th>\n",
              "      <th>source_text</th>\n",
              "      <th>status_text</th>\n",
              "      <th>type_text</th>\n",
              "      <th>is_valid</th>\n",
              "    </tr>\n",
              "  </thead>\n",
              "  <tbody>\n",
              "    <tr>\n",
              "      <th>0</th>\n",
              "      <td>Нийслэлийн Засаг даргын Тамгын газар</td>\n",
              "      <td>Дулааны тухай</td>\n",
              "      <td>2012-10-13T16:33:29.484371Z</td>\n",
              "      <td>Дуудлага</td>\n",
              "      <td>Хаагдсан</td>\n",
              "      <td>Гомдол</td>\n",
              "      <td>0</td>\n",
              "    </tr>\n",
              "    <tr>\n",
              "      <th>1</th>\n",
              "      <td>Ерөнхий сайд</td>\n",
              "      <td>Ерөнхий сайдтай уулзах. Жолоочийн эрх ашиг алдагдаж байна.</td>\n",
              "      <td>2012-10-13T16:33:29.492197Z</td>\n",
              "      <td>Биечлэн</td>\n",
              "      <td>Хаагдсан</td>\n",
              "      <td>Санал хүсэлт</td>\n",
              "      <td>1</td>\n",
              "    </tr>\n",
              "    <tr>\n",
              "      <th>2</th>\n",
              "      <td>Хүнс, хөдөө аж ахуй, хөнгөн үйлдвэрийн яам</td>\n",
              "      <td>Нефтийн үйлдвэр байгуулах тухай.</td>\n",
              "      <td>2012-10-13T16:33:29.495729Z</td>\n",
              "      <td>Дуудлага</td>\n",
              "      <td>Хаагдсан</td>\n",
              "      <td>Санал хүсэлт</td>\n",
              "      <td>0</td>\n",
              "    </tr>\n",
              "    <tr>\n",
              "      <th>3</th>\n",
              "      <td>Цагдаагийн ерөнхий газар</td>\n",
              "      <td>Жолооны үнэмлэх яагаад хэвлэгдэхгүй байна ?</td>\n",
              "      <td>2012-10-13T16:33:29.499487Z</td>\n",
              "      <td>Дуудлага</td>\n",
              "      <td>Хаагдсан</td>\n",
              "      <td>Санал хүсэлт</td>\n",
              "      <td>0</td>\n",
              "    </tr>\n",
              "    <tr>\n",
              "      <th>4</th>\n",
              "      <td>Эрүүл мэндийн яам</td>\n",
              "      <td>БГД Гэмтэл-н эмнэлгийн гадуурх хашааг нураах тухай</td>\n",
              "      <td>2012-10-13T16:33:29.503063Z</td>\n",
              "      <td>Дуудлага</td>\n",
              "      <td>Хаагдсан</td>\n",
              "      <td>Гомдол</td>\n",
              "      <td>0</td>\n",
              "    </tr>\n",
              "  </tbody>\n",
              "</table>\n",
              "</div>"
            ],
            "text/plain": [
              "                                       agency  ... is_valid\n",
              "0        Нийслэлийн Засаг даргын Тамгын газар  ...        0\n",
              "1                                Ерөнхий сайд  ...        1\n",
              "2  Хүнс, хөдөө аж ахуй, хөнгөн үйлдвэрийн яам  ...        0\n",
              "3                    Цагдаагийн ерөнхий газар  ...        0\n",
              "4                           Эрүүл мэндийн яам  ...        0\n",
              "\n",
              "[5 rows x 7 columns]"
            ]
          },
          "metadata": {
            "tags": []
          },
          "execution_count": 15
        }
      ]
    },
    {
      "cell_type": "code",
      "metadata": {
        "colab": {
          "base_uri": "https://localhost:8080/",
          "height": 204
        },
        "id": "ofvGMtcpC0RB",
        "outputId": "a6a37f3c-eb98-4090-c70d-b021be9f4b9b"
      },
      "source": [
        "df.rename(columns = {'content' : 'text', 'type_text' : 'label'}, inplace = True)\n",
        "df.head()"
      ],
      "execution_count": null,
      "outputs": [
        {
          "output_type": "execute_result",
          "data": {
            "text/html": [
              "<div>\n",
              "<style scoped>\n",
              "    .dataframe tbody tr th:only-of-type {\n",
              "        vertical-align: middle;\n",
              "    }\n",
              "\n",
              "    .dataframe tbody tr th {\n",
              "        vertical-align: top;\n",
              "    }\n",
              "\n",
              "    .dataframe thead th {\n",
              "        text-align: right;\n",
              "    }\n",
              "</style>\n",
              "<table border=\"1\" class=\"dataframe\">\n",
              "  <thead>\n",
              "    <tr style=\"text-align: right;\">\n",
              "      <th></th>\n",
              "      <th>agency</th>\n",
              "      <th>text</th>\n",
              "      <th>created_at</th>\n",
              "      <th>source_text</th>\n",
              "      <th>status_text</th>\n",
              "      <th>label</th>\n",
              "      <th>is_valid</th>\n",
              "    </tr>\n",
              "  </thead>\n",
              "  <tbody>\n",
              "    <tr>\n",
              "      <th>0</th>\n",
              "      <td>Нийслэлийн Засаг даргын Тамгын газар</td>\n",
              "      <td>Дулааны тухай</td>\n",
              "      <td>2012-10-13T16:33:29.484371Z</td>\n",
              "      <td>Дуудлага</td>\n",
              "      <td>Хаагдсан</td>\n",
              "      <td>Гомдол</td>\n",
              "      <td>0</td>\n",
              "    </tr>\n",
              "    <tr>\n",
              "      <th>1</th>\n",
              "      <td>Ерөнхий сайд</td>\n",
              "      <td>Ерөнхий сайдтай уулзах. Жолоочийн эрх ашиг алдагдаж байна.</td>\n",
              "      <td>2012-10-13T16:33:29.492197Z</td>\n",
              "      <td>Биечлэн</td>\n",
              "      <td>Хаагдсан</td>\n",
              "      <td>Санал хүсэлт</td>\n",
              "      <td>1</td>\n",
              "    </tr>\n",
              "    <tr>\n",
              "      <th>2</th>\n",
              "      <td>Хүнс, хөдөө аж ахуй, хөнгөн үйлдвэрийн яам</td>\n",
              "      <td>Нефтийн үйлдвэр байгуулах тухай.</td>\n",
              "      <td>2012-10-13T16:33:29.495729Z</td>\n",
              "      <td>Дуудлага</td>\n",
              "      <td>Хаагдсан</td>\n",
              "      <td>Санал хүсэлт</td>\n",
              "      <td>0</td>\n",
              "    </tr>\n",
              "    <tr>\n",
              "      <th>3</th>\n",
              "      <td>Цагдаагийн ерөнхий газар</td>\n",
              "      <td>Жолооны үнэмлэх яагаад хэвлэгдэхгүй байна ?</td>\n",
              "      <td>2012-10-13T16:33:29.499487Z</td>\n",
              "      <td>Дуудлага</td>\n",
              "      <td>Хаагдсан</td>\n",
              "      <td>Санал хүсэлт</td>\n",
              "      <td>0</td>\n",
              "    </tr>\n",
              "    <tr>\n",
              "      <th>4</th>\n",
              "      <td>Эрүүл мэндийн яам</td>\n",
              "      <td>БГД Гэмтэл-н эмнэлгийн гадуурх хашааг нураах тухай</td>\n",
              "      <td>2012-10-13T16:33:29.503063Z</td>\n",
              "      <td>Дуудлага</td>\n",
              "      <td>Хаагдсан</td>\n",
              "      <td>Гомдол</td>\n",
              "      <td>0</td>\n",
              "    </tr>\n",
              "  </tbody>\n",
              "</table>\n",
              "</div>"
            ],
            "text/plain": [
              "                                       agency  ... is_valid\n",
              "0        Нийслэлийн Засаг даргын Тамгын газар  ...        0\n",
              "1                                Ерөнхий сайд  ...        1\n",
              "2  Хүнс, хөдөө аж ахуй, хөнгөн үйлдвэрийн яам  ...        0\n",
              "3                    Цагдаагийн ерөнхий газар  ...        0\n",
              "4                           Эрүүл мэндийн яам  ...        0\n",
              "\n",
              "[5 rows x 7 columns]"
            ]
          },
          "metadata": {
            "tags": []
          },
          "execution_count": 16
        }
      ]
    },
    {
      "cell_type": "code",
      "metadata": {
        "colab": {
          "base_uri": "https://localhost:8080/",
          "height": 204
        },
        "id": "SpJSTdjfIZcz",
        "outputId": "4f1720b2-72bd-49b8-9738-fef0a88a36ca"
      },
      "source": [
        "df = df.drop(columns = ['agency','created_at','status_text','source_text'])\n",
        "df.head()"
      ],
      "execution_count": null,
      "outputs": [
        {
          "output_type": "execute_result",
          "data": {
            "text/html": [
              "<div>\n",
              "<style scoped>\n",
              "    .dataframe tbody tr th:only-of-type {\n",
              "        vertical-align: middle;\n",
              "    }\n",
              "\n",
              "    .dataframe tbody tr th {\n",
              "        vertical-align: top;\n",
              "    }\n",
              "\n",
              "    .dataframe thead th {\n",
              "        text-align: right;\n",
              "    }\n",
              "</style>\n",
              "<table border=\"1\" class=\"dataframe\">\n",
              "  <thead>\n",
              "    <tr style=\"text-align: right;\">\n",
              "      <th></th>\n",
              "      <th>text</th>\n",
              "      <th>label</th>\n",
              "      <th>is_valid</th>\n",
              "    </tr>\n",
              "  </thead>\n",
              "  <tbody>\n",
              "    <tr>\n",
              "      <th>0</th>\n",
              "      <td>Дулааны тухай</td>\n",
              "      <td>Гомдол</td>\n",
              "      <td>0</td>\n",
              "    </tr>\n",
              "    <tr>\n",
              "      <th>1</th>\n",
              "      <td>Ерөнхий сайдтай уулзах. Жолоочийн эрх ашиг алдагдаж байна.</td>\n",
              "      <td>Санал хүсэлт</td>\n",
              "      <td>1</td>\n",
              "    </tr>\n",
              "    <tr>\n",
              "      <th>2</th>\n",
              "      <td>Нефтийн үйлдвэр байгуулах тухай.</td>\n",
              "      <td>Санал хүсэлт</td>\n",
              "      <td>0</td>\n",
              "    </tr>\n",
              "    <tr>\n",
              "      <th>3</th>\n",
              "      <td>Жолооны үнэмлэх яагаад хэвлэгдэхгүй байна ?</td>\n",
              "      <td>Санал хүсэлт</td>\n",
              "      <td>0</td>\n",
              "    </tr>\n",
              "    <tr>\n",
              "      <th>4</th>\n",
              "      <td>БГД Гэмтэл-н эмнэлгийн гадуурх хашааг нураах тухай</td>\n",
              "      <td>Гомдол</td>\n",
              "      <td>0</td>\n",
              "    </tr>\n",
              "  </tbody>\n",
              "</table>\n",
              "</div>"
            ],
            "text/plain": [
              "                                                         text  ... is_valid\n",
              "0                                               Дулааны тухай  ...        0\n",
              "1  Ерөнхий сайдтай уулзах. Жолоочийн эрх ашиг алдагдаж байна.  ...        1\n",
              "2                            Нефтийн үйлдвэр байгуулах тухай.  ...        0\n",
              "3                 Жолооны үнэмлэх яагаад хэвлэгдэхгүй байна ?  ...        0\n",
              "4          БГД Гэмтэл-н эмнэлгийн гадуурх хашааг нураах тухай  ...        0\n",
              "\n",
              "[5 rows x 3 columns]"
            ]
          },
          "metadata": {
            "tags": []
          },
          "execution_count": 17
        }
      ]
    },
    {
      "cell_type": "markdown",
      "metadata": {
        "id": "SxsH9dkfC1OQ"
      },
      "source": [
        "### Fine Tuning"
      ]
    },
    {
      "cell_type": "code",
      "metadata": {
        "id": "zBlphTilC3no"
      },
      "source": [
        "dblocks = DataBlock(blocks=(TextBlock.from_df('text', is_lm=True)),\n",
        "                    get_x=ColReader('text'), \n",
        "                    splitter=ColSplitter())"
      ],
      "execution_count": null,
      "outputs": []
    },
    {
      "cell_type": "code",
      "metadata": {
        "colab": {
          "base_uri": "https://localhost:8080/",
          "height": 71
        },
        "id": "CUpIOK5cMiLR",
        "outputId": "be075fa9-60e9-421b-ebca-0ee324fbf7e0"
      },
      "source": [
        "dls = dblocks.dataloaders(df, bs=128, seq_len=80)"
      ],
      "execution_count": null,
      "outputs": [
        {
          "output_type": "display_data",
          "data": {
            "text/html": [
              ""
            ],
            "text/plain": [
              "<IPython.core.display.HTML object>"
            ]
          },
          "metadata": {
            "tags": []
          }
        },
        {
          "output_type": "stream",
          "text": [
            "/usr/local/lib/python3.7/dist-packages/numpy/core/_asarray.py:83: VisibleDeprecationWarning: Creating an ndarray from ragged nested sequences (which is a list-or-tuple of lists-or-tuples-or ndarrays with different lengths or shapes) is deprecated. If you meant to do this, you must specify 'dtype=object' when creating the ndarray\n",
            "  return array(a, dtype, copy=False, order=order)\n"
          ],
          "name": "stderr"
        }
      ]
    },
    {
      "cell_type": "code",
      "metadata": {
        "id": "kBvokptCTzKJ"
      },
      "source": [
        "lm_fns = ['mn_large_news20', 'mn_large_news20_vocab']"
      ],
      "execution_count": null,
      "outputs": []
    },
    {
      "cell_type": "code",
      "metadata": {
        "id": "xc78Mev6UD-I"
      },
      "source": [
        "learn = language_model_learner(dls, AWD_LSTM, drop_mult=0.5, pretrained=True, pretrained_fnames=lm_fns, \n",
        "                               metrics=[accuracy, Perplexity()]).to_fp16()"
      ],
      "execution_count": null,
      "outputs": []
    },
    {
      "cell_type": "code",
      "metadata": {
        "id": "NH-X5_6MUbOv"
      },
      "source": [
        "notebook_path = Path('').absolute()\n",
        "learn.path = notebook_path"
      ],
      "execution_count": null,
      "outputs": []
    },
    {
      "cell_type": "code",
      "metadata": {
        "id": "ExTMvkpEUgjn"
      },
      "source": [
        ""
      ],
      "execution_count": null,
      "outputs": []
    }
  ]
}